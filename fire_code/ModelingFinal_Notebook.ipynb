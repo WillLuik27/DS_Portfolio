{
 "cells": [
  {
   "cell_type": "markdown",
   "id": "e9255b23",
   "metadata": {},
   "source": [
    "# Modeling of Sprinkler's Dampening Effect on Fire\n",
    "### Modeling and Simulation of Physical Systems Final Project\n",
    "#### By William Luik"
   ]
  },
  {
   "cell_type": "markdown",
   "id": "698d76fd",
   "metadata": {},
   "source": [
    "## Introduction\n",
    "\n",
    "For my final project, I attempted to model a fire burning in a 5 by 5-meter room, and how a fire sprinkler system may dampen the effects. Although there are many rooms out there that are not 5 by 5 meters, this code is a fundamental model that can be used to make extrapolations about larger rooms by assuming a sprinkler covers each portion of the large room. As always there were such drawbacks with this project as there is no specific formula to represent the characteristics of fire. Like most objects in the real world, fire is a chaotic system with multiple initial conditions and parameters affecting it. For simplicity, I focused on measuring the heat release rate of the fire. Heat release rate, HRR for short, measures the intensity at which a fire releases energy. HRR is measured in Watts; however, due to the magnitude of the fire, I will be working in Kilowatts.\n"
   ]
  },
  {
   "cell_type": "markdown",
   "id": "82ac77db",
   "metadata": {},
   "source": [
    "## Background\n",
    "There is no specific motivation for this project. When looking for inspiration, I was laying in bed looking up at the ceiling. I noticed the fire sprinkler and how it is unnoticeably a part of every room we step into. I wondered how challenging it would be to model something so embedded into our life that we rarely stop to notice it. There was lots of data in some aspects of the project such as how much water is released from a fire sprinkler, but less information in facets such as how to properly model a water droplet engulfed in flames.\n"
   ]
  },
  {
   "cell_type": "markdown",
   "id": "7b1d99be",
   "metadata": {},
   "source": [
    "## Format\n",
    "The project was split into a 'main file' and 4 separate files to simplify for convenience. I will highlight the key importance of each file and how it has to lead to a final representation. Along with the 'main file,' there is a file running an Ising Model, projectile motion simulation, water droplet iterations, and plotting functions.\n",
    "\n",
    "The main data structure used for this project was an array. This is because I needed to hold information for each section in the room. To simplify the model, I divided the room into smaller subsections that help its position in the array. This position can vary between trials as the dimensions of the room and stepsize dividing the room can change. To create a more accurate model I could increase the number of times the room is divided; However, this will lead to longer computation times. "
   ]
  },
  {
   "cell_type": "markdown",
   "id": "1c8f4849",
   "metadata": {},
   "source": [
    "## Main File\n",
    "As highlighted by the name, the 'main file' is the most important section of the code. Although every file plays a crucial part, the 'main file' calls up the other files and drives the program. In addition, this file initializes the arrays and sets the initial conditions to later be called in each file."
   ]
  },
  {
   "cell_type": "markdown",
   "id": "21bec624",
   "metadata": {},
   "source": [
    "The portion of the code below imports all of the needed libraries for the 'main file' in addition to setting some structure. The code sets the dimensions of the array and how the floor will be divided into a grid where the position will have a value in the arrays. The Ising array is initialized and first assumed that each position on the floor is not on fire. Next, we find the center of the room and position the sprinkler here. If I wanted to model a different room, I could change the dimensions of the room or the position of the sprinkler. By defining each variable the code is flexible to model more than a 5 by 5-meter room with the sprinkler directly in the middle.\n",
    "\n",
    "Note: The code does not run in Jupyter Notebook because numpy may not be on the computer. If this is a problem then run the code in Spyder. "
   ]
  },
  {
   "cell_type": "code",
   "execution_count": 1,
   "id": "2bd02671",
   "metadata": {},
   "outputs": [
    {
     "ename": "ModuleNotFoundError",
     "evalue": "No module named 'numpy'",
     "output_type": "error",
     "traceback": [
      "\u001b[0;31m---------------------------------------------------------------------------\u001b[0m",
      "\u001b[0;31mModuleNotFoundError\u001b[0m                       Traceback (most recent call last)",
      "Cell \u001b[0;32mIn[1], line 2\u001b[0m\n\u001b[1;32m      1\u001b[0m \u001b[38;5;28;01mimport\u001b[39;00m \u001b[38;5;21;01mmath\u001b[39;00m\n\u001b[0;32m----> 2\u001b[0m \u001b[38;5;28;01mimport\u001b[39;00m \u001b[38;5;21;01mnumpy\u001b[39;00m \u001b[38;5;28;01mas\u001b[39;00m \u001b[38;5;21;01mnp\u001b[39;00m\n\u001b[1;32m      3\u001b[0m \u001b[38;5;28;01mimport\u001b[39;00m \u001b[38;5;21;01mProjectile_final\u001b[39;00m\n\u001b[1;32m      4\u001b[0m \u001b[38;5;28;01mimport\u001b[39;00m \u001b[38;5;21;01mdroplet_iter\u001b[39;00m\n",
      "\u001b[0;31mModuleNotFoundError\u001b[0m: No module named 'numpy'"
     ]
    }
   ],
   "source": [
    "import math\n",
    "import numpy as np\n",
    "import Projectile_final\n",
    "import droplet_iter\n",
    "import sys\n",
    "from random import randrange\n",
    "import Ising_fire_spread\n",
    "import bar_plot\n",
    "import matplotlib.pyplot as plt\n",
    "\n",
    "\n",
    "#spatial demensions of array\n",
    "#floor demensions\n",
    "floor_width= 10 #width of room in meters\n",
    "floor_length = 10 \n",
    "#step size\n",
    "dx= 1 \n",
    "dy= 1\n",
    "#actual demensions of array\n",
    "Nx= int(floor_width/dx) \n",
    "Ny = int(floor_length/dy)\n",
    "\n",
    "\n",
    "ising_floor= np.zeros((Nx,Ny)) #fire=-1 and not_fire=1\n",
    "   \n",
    "\n",
    "#set floor temperature all to the same number\n",
    "for i in range(Nx):\n",
    "    for j in range(Ny):\n",
    "        ising_floor[i,j]= 1  #start all positions not on fire\n",
    "\n",
    "\n",
    "height= 3  # in meters... 9.84 feet\n",
    "#sprinkler position --> need to find center of array\n",
    "x_center = (Nx+1)/2 -1 #subtract by one because arrays start at position zero\n",
    "y_center =(Nx+1)/2 -1"
   ]
  },
  {
   "cell_type": "markdown",
   "id": "ccc730fc",
   "metadata": {},
   "source": [
    "Next, I set the position of the fire. In this example, the fire is 2 by 2 meters set in the middle of the room. This condition can change if the variables are changed. An error may occur if the position of the fire is at the edge of the room. If this were to happen then there will be values that are outside the range of the array, leading to an error. By placing the fire in the middle of the room, I will not have this problem."
   ]
  },
  {
   "cell_type": "code",
   "execution_count": null,
   "id": "e3cbdefb",
   "metadata": {},
   "outputs": [
    {
     "ename": "NameError",
     "evalue": "name 'dx' is not defined",
     "output_type": "error",
     "traceback": [
      "\u001b[0;31m---------------------------------------------------------------------------\u001b[0m",
      "\u001b[0;31mNameError\u001b[0m                                 Traceback (most recent call last)",
      "Cell \u001b[0;32mIn[2], line 5\u001b[0m\n\u001b[1;32m      3\u001b[0m fire_length\u001b[38;5;241m=\u001b[39m \u001b[38;5;241m2\u001b[39m\n\u001b[1;32m      4\u001b[0m \u001b[38;5;66;03m#array dimensions\u001b[39;00m\n\u001b[0;32m----> 5\u001b[0m fire_Nx \u001b[38;5;241m=\u001b[39m \u001b[38;5;28mint\u001b[39m(fire_width\u001b[38;5;241m/\u001b[39m\u001b[43mdx\u001b[49m) \n\u001b[1;32m      6\u001b[0m fire_Ny \u001b[38;5;241m=\u001b[39m \u001b[38;5;28mint\u001b[39m(fire_length\u001b[38;5;241m/\u001b[39mdy)\n\u001b[1;32m      8\u001b[0m x_fire_position \u001b[38;5;241m=\u001b[39m \u001b[38;5;241m5\u001b[39m\n",
      "\u001b[0;31mNameError\u001b[0m: name 'dx' is not defined"
     ]
    }
   ],
   "source": [
    "#location of fire\n",
    "fire_width = 2\n",
    "fire_length= 2\n",
    "#array dimensions\n",
    "fire_Nx = int(fire_width/dx) \n",
    "fire_Ny = int(fire_length/dy)\n",
    "\n",
    "x_fire_position = 5\n",
    "y_fire_position= 5\n",
    "fire_pos_list=[]\n",
    "for i in range(x_fire_position - int(fire_Nx/2),x_fire_position + int(fire_Nx/2) ):\n",
    "    for j in range(y_fire_position - int(fire_Ny/2), y_fire_position + int(fire_Ny/2)):\n",
    "        fire_pos_list.append((i,j))\n",
    "        ising_floor[i,j]=-1\n",
    "\n"
   ]
  },
  {
   "cell_type": "markdown",
   "id": "836cf6e0",
   "metadata": {},
   "source": [
    "Next, I set some initial conditions for the height of the room along with values for gravity and drag coefficients. These variables are applied to the projectile file to find the maximum distance that a water droplet can be projected out of the sprinkler. To run the file, I first provided the projectile motion file. This file applies an ivp function to solve a projectile motion with air drag ODE. The ivp function stops running once the droplet has reached the floor. I found the structure for this projectile motion file on GitHub.\n",
    "\n",
    "### Projectile File"
   ]
  },
  {
   "cell_type": "code",
   "execution_count": null,
   "id": "b130cc40",
   "metadata": {},
   "outputs": [],
   "source": [
    "import numpy as np\n",
    "from scipy.integrate import solve_ivp\n",
    "import matplotlib.pyplot as plt\n",
    "\n",
    "class Projectile:\n",
    "    def __init__(self,k,m,height,v0):\n",
    "        self.k=k\n",
    "        self.m=m\n",
    "        self.height=height\n",
    "        self.v0=v0\n",
    "        \n",
    "    def k_value(self, c,rho_air,r ):\n",
    "        A = np.pi * self.r**2\n",
    "        k = 0.5 * self.c * self.rho_air * A\n",
    "        return k\n",
    "\n",
    "    def x_distance_time(self):\n",
    "        def deriv(t, u):\n",
    "            x, xdot, z, zdot = u\n",
    "            speed = np.hypot(xdot, zdot)\n",
    "            xdotdot = -self.k/self.m * speed * xdot\n",
    "            zdotdot = -self.k/self.m * speed * zdot - g\n",
    "            return xdot, xdotdot, zdot, zdotdot\n",
    "\n",
    "        # Initial conditions: x0, v0_x, z0, v0_z.\n",
    "        u0 = 0, self.v0 , self.height, 0\n",
    "        # Integrate up to tf unless we hit the target sooner.\n",
    "        t0, tf = 0, 50\n",
    "\n",
    "        def hit_target(t, u):\n",
    "            # We've hit the target if the z-coordinate is 0.\n",
    "            return u[2]\n",
    "        # Stop the integration when we hit the target.\n",
    "        hit_target.terminal = True\n",
    "        # We must be moving downwards (don't stop before we begin moving upwards!)\n",
    "        hit_target.direction = -1\n",
    "\n",
    "        def max_height(t, u):\n",
    "            # The maximum height is obtained when the z-velocity is zero.\n",
    "            return u[3]\n",
    "\n",
    "        soln = solve_ivp(deriv, (t0, tf), u0, dense_output=True,\n",
    "                         events=(hit_target, max_height))\n",
    "\n",
    "        # A fine grid of time points from 0 until impact time.\n",
    "        t = np.linspace(0, soln.t_events[0][0], 100)\n",
    "        sol = soln.sol(t)\n",
    "        x = sol[0]\n",
    "        #final value\n",
    "        xmax = x[-1]\n",
    "        tmax= soln.t_events[0][0]\n",
    "        return xmax, soln.t_events[0][0]\n",
    "\n",
    "    \n",
    "def methods():\n",
    "    print(\"projectile\")\n",
    "\n"
   ]
  },
  {
   "cell_type": "code",
   "execution_count": null,
   "id": "659011d6",
   "metadata": {},
   "outputs": [],
   "source": [
    "#kinnematics-->add drag and variable velocity\n",
    "height= 3  # in meters... 9.84 feet\n",
    "g=9.\n",
    "vx= 7\n",
    "vy=0\n",
    "c = 0.47   #drag coeffient of a sphere\n",
    "r = .001   #radius of water droplet is 1mm\n",
    "A = np.pi * r**2  #area of water droplet\n",
    "m = 0.05  #mass of the water droplet\n",
    "# Air density (kg.m-3), acceleration due to gravity (m.s-2).\n",
    "rho_air = 1.28  #air coeffient\n",
    "k = 0.5 * c * rho_air * A\n",
    "#time_fall = math.sqrt(2*height/g) --> this if there was no drag\n",
    "#projectile_d= vx* time_fall #how far the water droplet can shoot -->this if there is no drag\n",
    "\n",
    "#Find the maximum distance that the water droplet can travel with linear drag in 2d\n",
    "#I am importing code from Projectile_final to solve projectile motion with linear drag in the x and z directions\n",
    "max_drop_distance, max_drop_time= Projectile_final.Projectile(k,m,height,vx).x_distance_time()\n",
    "print(\"max distance\", max_drop_distance)"
   ]
  },
  {
   "cell_type": "markdown",
   "id": "c27aee04",
   "metadata": {},
   "source": [
    "Then, I simply set some inital conditions that will be implemented in the ising model. Importantly, the num_steps variable is how many iterations of the ising model that are implemented every second the the model is ran for. "
   ]
  },
  {
   "cell_type": "code",
   "execution_count": null,
   "id": "6bcd4b98",
   "metadata": {},
   "outputs": [],
   "source": [
    "\n",
    "J= 1.0 #coupling coefficent of Ising model\n",
    "J_diag= J/2  #coupling constant on the neighbors to the diagonal \n",
    "T=60  #temperature of Ising model. This will vary the entropy of the system\n",
    "num_steps=300   #step iterated through the ising model. I will increment through a small # of steps, then look at what is on fire, then repeat\n"
   ]
  },
  {
   "cell_type": "markdown",
   "id": "7951f169",
   "metadata": {},
   "source": [
    "Here I am setting the time component of the model. For this code, I will be modeling the fire for 300 seconds, iterating through the code once each second. The np.linspace function will make an array of values representing each second between 1 and 300."
   ]
  },
  {
   "cell_type": "code",
   "execution_count": null,
   "id": "6a001e2d",
   "metadata": {},
   "outputs": [],
   "source": [
    "time_step= 1\n",
    "final_time= 300\n",
    "t =np.linspace(0, final_time, int(final_time/time_step + 1))\n",
    "print(t)"
   ]
  },
  {
   "cell_type": "markdown",
   "id": "16a2a118",
   "metadata": {},
   "source": [
    "Then, I initialized some important arrays before starting the driving iterator. First, the floor_time array will hold the start times that each position first became on fire. This array is important because each position of the array that is in flames will have its peak HRR at different times. The rise and fall of the HRR for each position are dependent on when it first catches fire.\n",
    "\n",
    "Second, the floor_hrr array will hold the heat release rate values for each position on the floor. This array will later be used to create the heat map of the floor.\n",
    "\n",
    "Third, the floor_water array will collect the total amount of energy due to water that lands in each position.  "
   ]
  },
  {
   "cell_type": "code",
   "execution_count": null,
   "id": "3ba76074",
   "metadata": {},
   "outputs": [],
   "source": [
    "floor_time= np.zeros((Nx, Ny))\n",
    "floor_hrr=np.zeros((Nx, Ny))\n",
    "floor_water= np.zeros((Nx,Ny))"
   ]
  },
  {
   "cell_type": "markdown",
   "id": "b88f0a33",
   "metadata": {},
   "source": [
    "Before I implement the driving iterator, I must first introduce the additions files so that the code all runs smoothly. "
   ]
  },
  {
   "cell_type": "markdown",
   "id": "3e171b5d",
   "metadata": {},
   "source": [
    "### Ising Model File\n",
    "\n",
    "First, the Ising model file will be implemented to the driving iterator because every second the fire will spread. In reality, the fire is spreading continually and not at discrete time steps. I used the structure of the Ising model from our class's Ising model project. the major difference is that a position in the array in question may flip its spin due to the interaction with a position to its diagonal. Normally in an Ising model, the positions above, below, to the left, and the right can affect the spin-flip. However since fire can spread from any sort of touch, therefore the diagonal positions must be accounted for as well. The other major difference is that the positions can only flip to -1 but not back to 1. This means that once a position is on fire it will not quickly become not on fire. This makes intuitive sense because surrounding positions that are not on fire do not incline a position that is on fire to somehow stop burning. Fire is contagious, while a non-fire state is not.\n",
    "\n",
    "A possible way to improve my code is to change the Ising model in which fire positions can stop being on fire. The condition that would switch fire to non-fire would be when the HRR returns back to zero."
   ]
  },
  {
   "cell_type": "code",
   "execution_count": null,
   "id": "9af21044",
   "metadata": {},
   "outputs": [],
   "source": [
    "import numpy as np\n",
    "import matplotlib.pyplot as plt\n",
    "\n",
    "class Fire:\n",
    "    def __init__(self, ising_floor, Nx, Ny, J, J_diag, T, num_steps ):\n",
    "        self.ising_floor=ising_floor\n",
    "        self.Nx= Nx\n",
    "        self.Ny= Ny\n",
    "        self.J=J\n",
    "        self.J_diag= J_diag\n",
    "        self.T=T\n",
    "        self.num_steps=num_steps\n",
    "        \n",
    "    def ising_model(self):\n",
    "        # floor is given through as a parameter of the function\n",
    "\n",
    "        # Calculate the initial energy and magnetization\n",
    "        E = -self.J * np.sum(self.ising_floor * np.roll(self.ising_floor, -1, axis=0) +\n",
    "                       self.ising_floor * np.roll(self.ising_floor, -1, axis=1))\n",
    "        M = np.sum(self.ising_floor)\n",
    "\n",
    "\n",
    "        # Perform the Monte Carlo simulation\n",
    "        for i in range(self.num_steps):\n",
    "            # Choose a random spin to flip\n",
    "            row = np.random.randint(self.Nx)\n",
    "            col = np.random.randint(self.Ny)\n",
    "\n",
    "            # Calculate the energy change if the spin is flipped\n",
    "            delta_E = 2 * self.J * self.ising_floor[row, col] * (\n",
    "                self.ising_floor[row, (col+1)%self.Ny] + self.ising_floor[row, (col-1)%self.Ny] +\n",
    "                self.ising_floor[(row+1)%self.Nx, col] + self.ising_floor[(row-1)%self.Nx, col]) + 2*self.J_diag*self.ising_floor[row,col]*(\n",
    "                self.ising_floor[(row+1)%self.Nx, (col+1)%self.Ny] + self.ising_floor[(row-1)%self.Nx, (col+1)%self.Ny] + \n",
    "                self.ising_floor[(row-1)%self.Nx, (col-1)%self.Ny] + self.ising_floor[(row+1)%self.Nx, (col-1)%self.Ny] )\n",
    "\n",
    "        # Accept or reject the spin flip based on the Metropolis algorithm\n",
    "        if (delta_E < 0 or np.exp(-delta_E / self.T) > np.random.rand()) and  self.ising_floor[row,col]!=-1:  #no spin flip is there is already a fire\n",
    "            self.ising_floor[row, col] *= -1\n",
    "            E += delta_E\n",
    "            M += 2 * self.ising_floor[row, col]\n",
    "           \n",
    "        # Plot the floor\n",
    "        #plt.imshow(self.ising_floor, cmap='RdYlGn')  #note: black is -1 while white is 1\n",
    "        #plt.show()\n",
    "        return self.ising_floor\n",
    "\n"
   ]
  },
  {
   "cell_type": "markdown",
   "id": "07f33c62",
   "metadata": {},
   "source": [
    "### Droplet Iterator\n",
    "The next file that must be introduced is the droplet iterator file. This file finds exactly how many droplets are ejected out of the sprinkler each second and projects where it lands. The number of droplets per second, $50,000$, was found by first finding the number of liters per minute released. I was able to convert this to droplets per second by assuming that this is pure $H_2O$ and therefore $1 ml$ of water has a mass of $1g$. Also, via Google search, I needed to learn that a droplet has a mass of about $0.05g$. Once I know that there are $50,000$ droplets released every second, I randomize the distance and direction in which each droplet is projected. I use the max droplet distance from the projectile motion file. I randomized the projection by importing the random library. When the array lands in a specific position on the floor, the droplet is accounted for in the floor_water array.\n",
    "\n",
    "Importantly, the energy of each droplet is calculated. To find this value I used the specific heat formula from Physics 112. At the end of each iteration, the amount of energy that is collected in each position in the floor_water array will reduce the HRR in that location.\n",
    "\n"
   ]
  },
  {
   "cell_type": "code",
   "execution_count": null,
   "id": "fc91e61a",
   "metadata": {},
   "outputs": [],
   "source": [
    "import matplotlib.pyplot as plt\n",
    "import numpy as np\n",
    "import math\n",
    "from random import randrange\n",
    "\n",
    "class Droplet:\n",
    "    def __init__(self, Nx, Ny, max_drop_distance, x_center, y_center,dx,dy ):\n",
    "        self.Nx= Nx\n",
    "        self.Ny=Ny\n",
    "        self.max_drop_distance= max_drop_distance\n",
    "        self.x_center=x_center\n",
    "        self.y_center= y_center\n",
    "        self.dx=dx\n",
    "        self.dy=dy\n",
    "        \n",
    "        \n",
    "    def drop_energy(self):\n",
    "        #use the specific heat formula to find the energy from each water droplet\n",
    "        m= 0.00005 # mass of a water droplet in kg\n",
    "        c=4.186 # specific heat of water\n",
    "        temp0= 15 #inital temp of water when it is released from sprinkler\n",
    "        temp_final= 100 #boiling point of water\n",
    "        delt_temp= temp_final-temp0\n",
    "        heat_energy= m*c*delt_temp/1000 #divide by 1000 so that it is in kilo jouls\n",
    "        return heat_energy\n",
    "        \n",
    "    def droplets(self):\n",
    "        #collect all of the water droplets into each position on the array\n",
    "        floor_water= np.zeros((self.Nx,self.Ny))\n",
    "        \n",
    "        for droplet in range(500):  #should be 33333 iterations but instead I am assuming that the drop has a value of 100 drops so that the iteration is quicker.\n",
    "            #find the position of a random droplet\n",
    "            drop_distance= randrange(1,int(self.max_drop_distance))  #this will be a random distance up to three decimal places\n",
    "            projection_angle= randrange(0,360)  #angle zero is directly to the right --> later wil convert to radians\n",
    "            xdrop_distance= math.cos(projection_angle * (math.pi/ 180)) *drop_distance\n",
    "            ydrop_distance= math.sin(projection_angle * (math.pi/ 180)) *drop_distance\n",
    "\n",
    "            #position of the random water droplet\n",
    "            xdrop_position= int(self.x_center + (xdrop_distance)/self.dx)\n",
    "            ydrop_position= int(self.y_center + (ydrop_distance)/self.dy)\n",
    "        \n",
    "            #energy of the droplet that landed in that position 'bucket'\n",
    "            floor_water[xdrop_position,ydrop_position] += self.drop_energy() *100 #multiply by 100 to account for the reduction in iteration. itterating less but assuming that the random droplet has the energy of 100 droplets\n",
    "\n",
    "        return floor_water\n",
    "        "
   ]
  },
  {
   "cell_type": "markdown",
   "id": "34dda907",
   "metadata": {},
   "source": [
    "### Plotting File\n",
    "The final file that must be introduced is the plotting file. This file has two functions; either plot a heatmap or create a bar plot. These will make a visual aid to help understand the HRR as it changes over each time iteration.\n"
   ]
  },
  {
   "cell_type": "code",
   "execution_count": null,
   "id": "a65cb6df",
   "metadata": {},
   "outputs": [],
   "source": [
    "import matplotlib.pyplot as plt\n",
    "import numpy as np\n",
    "import seaborn as sns # for data visualization\n",
    "\n",
    "class Bar:\n",
    "    def __init__(self,floor_hrr , Nx, Ny):\n",
    "        self.floor_hrr = floor_hrr\n",
    "        self.Nx= Nx\n",
    "        self.Ny=Ny\n",
    "    \n",
    "    def heatmap(self):\n",
    "        plt.imshow(self.floor_hrr, cmap='coolwarm')\n",
    "        plt.colorbar()\n",
    "        plt.title( \"Heat Map of HRR on Floor (Meters)\" )\n",
    "        #plt.savefig(\"heatmap_video.png\")\n",
    "    \n",
    "\n",
    "        #test_array = np.arange(self.Nx * self.Ny).reshape(self.Nx, self.Ny)\n",
    "        return plt.show()\n",
    "        \n",
    "    def plot_bar(self):\n",
    "        fig = plt.figure()\n",
    "        ax = plt.axes(projection = \"3d\")\n",
    "\n",
    "        numOfCols= self.Nx\n",
    "        numOfRows= self.Ny\n",
    "\n",
    "        xpos = np.arange(0, numOfCols, 1)\n",
    "        ypos = np.arange(0, numOfRows, 1)\n",
    "        xpos, ypos = np.meshgrid(xpos + 0.5, ypos + 0.5)\n",
    " \n",
    "        xpos = xpos.flatten()\n",
    "        ypos = ypos.flatten()\n",
    "        zpos = np.zeros(numOfCols * numOfRows)\n",
    " \n",
    "        dx = np.ones(numOfRows * numOfCols) * 0.5\n",
    "        dy = np.ones(numOfCols * numOfRows) * 0.5\n",
    "        dz = self.floor_hrr.flatten()\n",
    " \n",
    "        ax.bar3d(xpos, ypos, zpos, dx, dy, dz)\n",
    "        ax.set_xticklabels(list(range(self.Nx)))\n",
    "        ax.set_yticklabels(list(range(self.Ny)))\n",
    "    \n",
    "        ax.set_xlabel('Depth of room (meters)')\n",
    "        ax.set_ylabel('Width of room (meters)')\n",
    "        ax.set_zlabel('HRR (kilo Jouls)')\n",
    "        #plt.savefig(\"bar_plot.png\")\n",
    "        \n",
    "        return plt.show()\n"
   ]
  },
  {
   "cell_type": "markdown",
   "id": "6454365d",
   "metadata": {},
   "source": [
    "## The Driving Iterator\n",
    "\n",
    "Last but not least, the driving iterator must be implemented. This embedded for loop will iterate over each second and will look at each position in the array. Since the arrays are all the same size, the iterator will be able to look at each array (floor_hrr, floor_water, floor_time, and ising_floor). First, the code creates a heatmap, calls the rising floor file to have the fire spread some, and projects the $50,000$ water droplets adding energy to the floor_water array.\n",
    "\n",
    "Next, the iterator will look through each position in the array. First, the code will find any position that is now on fire and was not in the prior iteration. These newly ignited positions will have time recorded in the floor_time array so that I can calculate how long the position has been on fire. Second, the code tracked the HRR value of each position that is considered on fire. The long formula used to calculate the HRR over time was found in a publication by the US Department of Commerce on the heat release rate characteristics for different sources found in a nuclear power plant. This paper provided data such as the peak HRR and when it would occur. By plotting my graph with the provided information and using Microsoft Excel, I was able to derive an equation representing the HRR as a function of time.\n",
    "\n",
    "Finally, I will subtract the amount of water energy in the floor_water array from each corresponding position's HRR. This is one of the best possible ways to analyze the effect of water on a fire.\n",
    "\n",
    "All of these actions will repeat every second until the simulation is complete. "
   ]
  },
  {
   "cell_type": "code",
   "execution_count": null,
   "id": "d0dcc8c1",
   "metadata": {},
   "outputs": [],
   "source": [
    "for time in t:  \n",
    "    bar_floor= bar_plot.Bar(floor_hrr, Nx, Ny).heatmap()\n",
    "    ising_floor = Ising_fire_spread.Fire(ising_floor, Nx, Ny, J, J_diag, T, num_steps).ising_model() #spread the fire a little bit for what would be one second\n",
    "    floor_water+=droplet_iter.Droplet(Nx, Ny, max_drop_distance, x_center, y_center, dx, dy).droplets()\n",
    "    for i in range(Nx):\n",
    "        for j in range(Ny): #look through all the positions for new fire so that we can start the HRR polynomial\n",
    "            if (ising_floor[i,j]== -1) and ((i,j) not in fire_pos_list):  # if there is a NEW fire in this location \n",
    "                fire_pos_list.append((i,j))  #postions of all arrays on fire\n",
    "                floor_time[i,j]= time  #this will state the start time of the fire\n",
    "                time_on_fire= time- floor_time[i,j]\n",
    "            elif (ising_floor[i,j]==-1):  #if there is just a fire in this location that has already been here\n",
    "                time_on_fire= time -floor_time[i,j]\n",
    "            else: #if position is not on fire\n",
    "                time_on_fire=0\n",
    "                \n",
    "            if ising_floor[i,j]==-1: #find HRR which is in kilo Wats (multiply by Nx and Ny to get ride of meters squared)\n",
    "                if time <= 35:\n",
    "                    floor_hrr[i,j]= dx * dy* ((-6*10**-7 * time_on_fire**6)+ (1*10**-4 * time_on_fire**5) + (-0.0058 * time_on_fire**4)+ (0.1399 * time_on_fire**3) -1.225 *time_on_fire**2 + (3.822 *time_on_fire)+9.041)   \n",
    "                else: \n",
    "                    floor_hrr[i,j]=86 - 0.2*(time_on_fire-50)\n",
    "                    \n",
    "                floor_hrr[i,j]-= floor_water[i,j]\n",
    "                if floor_hrr[i,j]<=0:\n",
    "                    floor_hrr[i,j]=0\n",
    "                \n",
    "          "
   ]
  },
  {
   "cell_type": "markdown",
   "id": "d5a11354",
   "metadata": {},
   "source": [
    "In the end, a couple more plots are created along with some print statements. These actions are not vital to the code but were extremely helpful in debugging and providing final information about the fire."
   ]
  },
  {
   "cell_type": "code",
   "execution_count": null,
   "id": "0342c756",
   "metadata": {},
   "outputs": [],
   "source": [
    "bar_floor= bar_plot.Bar(floor_hrr, Nx, Ny).plot_bar()\n",
    "water_graph= bar_plot.Bar(floor_water, Nx, Ny).plot_bar()\n",
    "\n",
    "\n",
    "print(fire_pos_list)\n",
    "print(ising_floor)\n",
    "print (floor_hrr)  #in kilo jouls\n",
    "print(floor_time)\n",
    "print(floor_water)\n",
    "\n",
    "\n",
    "plt.imshow(ising_floor, cmap='RdYlGn')  #note: black is -1 while white is 1\n",
    "plt.show()\n"
   ]
  },
  {
   "cell_type": "markdown",
   "id": "810034d2",
   "metadata": {},
   "source": [
    "## Drawbacks/Improvements\n",
    "\n",
    "As mentioned in the introduction, the biggest challenge was learning about the science of fire. This is not a widely acknowledged subfield in physics and it becomes very chaotic very quickly. Using the energy of water to reduce the HRR of the fire is a respectable analysis; however, this does not account for the fact that the water creates a wet surface that inhibits the fire from flourishing. The only way to improve my analysis in this sense is to completely change the equations used to model fire. This is challenging but not impossible. The US Department of Commerce mentioned a formula:\n",
    "$$ \\dot{Q}=\\dot{m} * H_{T} * x_{A}$$\n",
    "\n",
    "Where $\\dot{Q}$ is the rate of heat release based on mass loss. $\\dot{m}$ is the rate of mass loss (kg/s). $H_{T}$ is the net heat of complete combustion (KJ/g). $x_{A}$ is the combustion efficency.\n",
    "\n",
    "Another way to improve the code would be to change the layout of the room. At the moment, each position of the room burns at the same rate. In reality, this is not true because rooms have furniture in some positions which will have a greater peak HRR compared to the area that is empty and only the hardwood floor is burning. To change this I would have to have different HRR concerning time functions for differing positions."
   ]
  },
  {
   "cell_type": "markdown",
   "id": "b4bd45f4",
   "metadata": {},
   "source": [
    "## Conclusion\n",
    "In conclusion, I found this simulation a success. The code ran smoothly and produced respectable data. My simulation may not be the same as experimental data, but that is because there is chaos in the real world which is somewhat impossible to account for. The physics of fire is rarely incorporated in academia and I believe my code could be a great introduction to both physics coupled with fire along with physics implemented in Python.\n"
   ]
  },
  {
   "cell_type": "markdown",
   "id": "2277c28d",
   "metadata": {},
   "source": [
    "### References\n",
    "\n",
    "HRR data: https://nvlpubs.nist.gov/nistpubs/Legacy/IR/nbsir85-3195.pdf \n",
    "\n",
    "HRR info: https://doctorfire.com/heat-release-rate-a-brief-primer/ \n",
    "\n",
    "Sprinkler info: https://www.marysvillefiredistrict.org/public-education/home-fire-sprinklers/how-fire-sprinklers-work/#:~:text=Fire%20hoses%20use%20about%20250,to%20put%20out%20a%20fire. \n"
   ]
  }
 ],
 "metadata": {
  "kernelspec": {
   "display_name": "Python 3.10.7 64-bit",
   "language": "python",
   "name": "python3"
  },
  "language_info": {
   "codemirror_mode": {
    "name": "ipython",
    "version": 3
   },
   "file_extension": ".py",
   "mimetype": "text/x-python",
   "name": "python",
   "nbconvert_exporter": "python",
   "pygments_lexer": "ipython3",
   "version": "3.10.7"
  },
  "vscode": {
   "interpreter": {
    "hash": "aee8b7b246df8f9039afb4144a1f6fd8d2ca17a180786b69acc140d282b71a49"
   }
  }
 },
 "nbformat": 4,
 "nbformat_minor": 5
}
